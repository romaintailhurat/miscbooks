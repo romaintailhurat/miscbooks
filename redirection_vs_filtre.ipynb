{
 "cells": [
  {
   "cell_type": "code",
   "execution_count": 53,
   "id": "4b681661-ef63-4ce1-bce8-5ebeda161901",
   "metadata": {
    "tags": []
   },
   "outputs": [],
   "source": [
    "from itertools import permutations, pairwise\n",
    "import polars as pl\n",
    "import pandas as pd\n",
    "import matplotlib.pyplot as plt\n",
    "import ipywidgets as widgets\n",
    "from ipywidgets import interact\n",
    "import s3fs\n",
    "import os"
   ]
  },
  {
   "cell_type": "code",
   "execution_count": 80,
   "id": "8a2a08b4-7226-4de9-9833-b39094605959",
   "metadata": {
    "tags": []
   },
   "outputs": [
    {
     "data": {
      "text/html": [
       "<div><style>\n",
       ".dataframe > thead > tr > th,\n",
       ".dataframe > tbody > tr > td {\n",
       "  text-align: right;\n",
       "}\n",
       "</style>\n",
       "<small>shape: (5, 5)</small><table border=\"1\" class=\"dataframe\"><thead><tr><th>id</th><th>label</th><th>proprietaire</th><th>flow</th><th>modified</th></tr><tr><td>str</td><td>str</td><td>str</td><td>str</td><td>str</td></tr></thead><tbody><tr><td>&quot;kxhgx564&quot;</td><td>&quot;&quot;SINE 2022  au...</td><td>&quot;&quot;DR67-SES54&quot;&quot;</td><td>&quot;&quot;FILTER&quot;&quot;</td><td>&quot;&quot;Wed Dec 22 20...</td></tr><tr><td>&quot;kfp3p6nk-nm&quot;</td><td>&quot;&quot;Déchets 2020 ...</td><td>&quot;&quot;DR14-SSNE&quot;&quot;</td><td>&quot;&quot;FILTER&quot;&quot;</td><td>&quot;&quot;Fri Jun 18 20...</td></tr><tr><td>&quot;kwxny32z&quot;</td><td>&quot;&quot;Test Mise en ...</td><td>&quot;&quot;DR59-SNDI&quot;&quot;</td><td>&quot;&quot;REDIRECTION&quot;&quot;</td><td>&quot;&quot;Thu Feb 10 20...</td></tr><tr><td>&quot;kzgycn1p&quot;</td><td>&quot;&quot;Test Mise en ...</td><td>&quot;&quot;DR59-SNDI&quot;&quot;</td><td>&quot;&quot;REDIRECTION&quot;&quot;</td><td>&quot;&quot;Thu Feb 10 20...</td></tr><tr><td>&quot;l7u2lpo7&quot;</td><td>&quot;&quot;SINE 2022 &quot;&quot;</td><td>&quot;&quot;DR67-SES54&quot;&quot;</td><td>&quot;&quot;FILTER&quot;&quot;</td><td>&quot;&quot;Fri Sep 09 20...</td></tr></tbody></table></div>"
      ],
      "text/plain": [
       "shape: (5, 5)\n",
       "┌─────────────┬──────────────────────┬──────────────┬───────────────┬───────────────────────────┐\n",
       "│ id          ┆ label                ┆ proprietaire ┆ flow          ┆ modified                  │\n",
       "│ ---         ┆ ---                  ┆ ---          ┆ ---           ┆ ---                       │\n",
       "│ str         ┆ str                  ┆ str          ┆ str           ┆ str                       │\n",
       "╞═════════════╪══════════════════════╪══════════════╪═══════════════╪═══════════════════════════╡\n",
       "│ kxhgx564    ┆ \"SINE 2022  au 22 12 ┆ \"DR67-SES54\" ┆ \"FILTER\"      ┆ \"Wed Dec 22 2021 12:46:56 │\n",
       "│             ┆ 2021 pour t…         ┆              ┆               ┆ GMT+01…                   │\n",
       "│ kfp3p6nk-nm ┆ \"Déchets 2020 -      ┆ \"DR14-SSNE\"  ┆ \"FILTER\"      ┆ \"Fri Jun 18 2021 16:47:47 │\n",
       "│             ┆ Services\"            ┆              ┆               ┆ GMT+02…                   │\n",
       "│ kwxny32z    ┆ \"Test Mise en prod\"  ┆ \"DR59-SNDI\"  ┆ \"REDIRECTION\" ┆ \"Thu Feb 10 2022 13:16:06 │\n",
       "│             ┆                      ┆              ┆               ┆ GMT+01…                   │\n",
       "│ kzgycn1p    ┆ \"Test Mise en prod   ┆ \"DR59-SNDI\"  ┆ \"REDIRECTION\" ┆ \"Thu Feb 10 2022 13:16:06 │\n",
       "│             ┆ Copie\"               ┆              ┆               ┆ GMT+01…                   │\n",
       "│ l7u2lpo7    ┆ \"SINE 2022 \"         ┆ \"DR67-SES54\" ┆ \"FILTER\"      ┆ \"Fri Sep 09 2022 08:01:12 │\n",
       "│             ┆                      ┆              ┆               ┆ GMT+02…                   │\n",
       "└─────────────┴──────────────────────┴──────────────┴───────────────┴───────────────────────────┘"
      ]
     },
     "execution_count": 80,
     "metadata": {},
     "output_type": "execute_result"
    }
   ],
   "source": [
    "S3_ENDPOINT_URL = \"https://\" + os.environ[\"AWS_S3_ENDPOINT\"]\n",
    "FILE_PATH = \"romaintailhurat/bowie/bowie_redirection_filtre.csv\"\n",
    "\n",
    "fs = s3fs.S3FileSystem(client_kwargs={'endpoint_url': S3_ENDPOINT_URL})\n",
    "\n",
    "with fs.open(FILE_PATH, mode=\"rb\") as f:\n",
    "    df = pl.read_csv(f, sep=\",\")\n",
    "\n",
    "#proprietaires = [prop.strip(\"\\\"\") for prop in df[\"proprietaire\"]]\n",
    "proprietaires = sorted(set(df[\"proprietaire\"]))\n",
    "    \n",
    "df.head()"
   ]
  },
  {
   "cell_type": "code",
   "execution_count": 3,
   "id": "81eb940e-03f1-4ce1-9be6-b15b10bb6157",
   "metadata": {
    "tags": []
   },
   "outputs": [],
   "source": [
    "df_y = df.with_columns(pl.col(\"modified\").str.split(\" \").arr.get(3).alias(\"ANNEE\"))"
   ]
  },
  {
   "cell_type": "code",
   "execution_count": 93,
   "id": "fd95f18c-660f-4d9e-af9b-608c374539fc",
   "metadata": {
    "tags": []
   },
   "outputs": [
    {
     "data": {
      "text/html": [
       "<div><style>\n",
       ".dataframe > thead > tr > th,\n",
       ".dataframe > tbody > tr > td {\n",
       "  text-align: right;\n",
       "}\n",
       "</style>\n",
       "<small>shape: (10, 3)</small><table border=\"1\" class=\"dataframe\"><thead><tr><th>ANNEE</th><th>flow</th><th>count</th></tr><tr><td>str</td><td>str</td><td>u32</td></tr></thead><tbody><tr><td>&quot;2018&quot;</td><td>&quot;&quot;REDIRECTION&quot;&quot;</td><td>35</td></tr><tr><td>&quot;2019&quot;</td><td>&quot;&quot;REDIRECTION&quot;&quot;</td><td>115</td></tr><tr><td>&quot;2020&quot;</td><td>&quot;&quot;REDIRECTION&quot;&quot;</td><td>122</td></tr><tr><td>&quot;2021&quot;</td><td>&quot;&quot;</td><td>1</td></tr><tr><td>&quot;2021&quot;</td><td>&quot;&quot;FILTER&quot;&quot;</td><td>116</td></tr><tr><td>&quot;2021&quot;</td><td>&quot;&quot;REDIRECTION&quot;&quot;</td><td>141</td></tr><tr><td>&quot;2022&quot;</td><td>&quot;&quot;FILTER&quot;&quot;</td><td>267</td></tr><tr><td>&quot;2022&quot;</td><td>&quot;&quot;REDIRECTION&quot;&quot;</td><td>56</td></tr><tr><td>&quot;2023&quot;</td><td>&quot;&quot;FILTER&quot;&quot;</td><td>145</td></tr><tr><td>&quot;2023&quot;</td><td>&quot;&quot;REDIRECTION&quot;&quot;</td><td>27</td></tr></tbody></table></div>"
      ],
      "text/plain": [
       "shape: (10, 3)\n",
       "┌───────┬───────────────┬───────┐\n",
       "│ ANNEE ┆ flow          ┆ count │\n",
       "│ ---   ┆ ---           ┆ ---   │\n",
       "│ str   ┆ str           ┆ u32   │\n",
       "╞═══════╪═══════════════╪═══════╡\n",
       "│ 2018  ┆ \"REDIRECTION\" ┆ 35    │\n",
       "│ 2019  ┆ \"REDIRECTION\" ┆ 115   │\n",
       "│ 2020  ┆ \"REDIRECTION\" ┆ 122   │\n",
       "│ 2021  ┆               ┆ 1     │\n",
       "│ …     ┆ …             ┆ …     │\n",
       "│ 2022  ┆ \"FILTER\"      ┆ 267   │\n",
       "│ 2022  ┆ \"REDIRECTION\" ┆ 56    │\n",
       "│ 2023  ┆ \"FILTER\"      ┆ 145   │\n",
       "│ 2023  ┆ \"REDIRECTION\" ┆ 27    │\n",
       "└───────┴───────────────┴───────┘"
      ]
     },
     "execution_count": 93,
     "metadata": {},
     "output_type": "execute_result"
    }
   ],
   "source": [
    "df_rf = df_y.groupby([\"ANNEE\", \"flow\"]).agg(pl.count()).sort(\"ANNEE\")\n",
    "df_rf = df_rf.filter(pl.col(\"ANNEE\").is_not_null())\n",
    "df_rf"
   ]
  },
  {
   "cell_type": "code",
   "execution_count": 40,
   "id": "10fe32d2-c6c5-4e39-adda-0f98b029a8ab",
   "metadata": {
    "tags": []
   },
   "outputs": [
    {
     "data": {
      "image/png": "[encoded data removed]",
      "text/plain": [
       "<Figure size 640x480 with 6 Axes>"
      ]
     },
     "metadata": {},
     "output_type": "display_data"
    }
   ],
   "source": [
    "fig, axs = plt.subplots(2, 3, layout=\"constrained\")\n",
    "\n",
    "years = sorted(set(df_rf[\"ANNEE\"]))\n",
    "\n",
    "n=0\n",
    "\n",
    "for i in range(2):\n",
    "    for j in range(3):\n",
    "        df = df_rf.filter(pl.col(\"ANNEE\") == years[n])\n",
    "        axs[i, j].bar(df[\"flow\"], df[\"count\"])\n",
    "        axs[i, j].set_title(years[n])        \n",
    "        n += 1\n",
    "\n",
    "plt.show()"
   ]
  },
  {
   "cell_type": "code",
   "execution_count": 52,
   "id": "d9f81e16-d6c3-4066-83c5-0ba9ed94200e",
   "metadata": {
    "tags": []
   },
   "outputs": [
    {
     "data": {
      "application/vnd.jupyter.widget-view+json": {
       "model_id": "cff35924a5ff49499cdd2031b6ed8b4f",
       "version_major": 2,
       "version_minor": 0
      },
      "text/plain": [
       "Dropdown(description='Number:', options=('2018', '2019', '2020', '2021', '2022', '2023'), value='2018')"
      ]
     },
     "metadata": {},
     "output_type": "display_data"
    },
    {
     "name": "stdout",
     "output_type": "stream",
     "text": [
      "2018\n"
     ]
    }
   ],
   "source": [
    "selected_year  = widgets.Dropdown(\n",
    "    options=years,\n",
    "    value=years[0],\n",
    "    description='Number:',\n",
    "    disabled=False,\n",
    ")\n",
    "display(selected_year)\n",
    "print(selected_year.value)"
   ]
  },
  {
   "cell_type": "code",
   "execution_count": 91,
   "id": "0cb3dfa6-ff47-4305-82f7-2784b3fdb3fa",
   "metadata": {
    "tags": []
   },
   "outputs": [
    {
     "data": {
      "application/vnd.jupyter.widget-view+json": {
       "model_id": "4053d464dc7d4285a660bf98b507fc0d",
       "version_major": 2,
       "version_minor": 0
      },
      "text/plain": [
       "interactive(children=(Dropdown(description='y', index=5, options=('2018', '2019', '2020', '2021', '2022', '202…"
      ]
     },
     "metadata": {},
     "output_type": "display_data"
    }
   ],
   "source": [
    "@interact(y=years, p=proprietaires, r=[\"\\\"REDIRECTION\\\"\", \"\\\"FILTER\\\"\"])\n",
    "def filter_df(y=\"2023\", p=\"\\\"DG75-L120\\\"\", r=\"\\\"REDIRECTION\\\"\"):\n",
    "    #df_prop = df_y.groupby([\"ANNEE\", \"proprietaire\", \"flow\"]).agg(pl.count()).sort(\"ANNEE\")\n",
    "    return df_y.filter(\n",
    "        (pl.col(\"ANNEE\") == y) & (pl.col(\"proprietaire\") == p) & (pl.col(\"flow\") == r)\n",
    "    )"
   ]
  },
  {
   "cell_type": "code",
   "execution_count": 90,
   "id": "077e015b-47ca-4db0-8a9d-9e28d720f691",
   "metadata": {
    "tags": []
   },
   "outputs": [
    {
     "data": {
      "text/html": [
       "<div><style>\n",
       ".dataframe > thead > tr > th,\n",
       ".dataframe > tbody > tr > td {\n",
       "  text-align: right;\n",
       "}\n",
       "</style>\n",
       "<small>shape: (7, 4)</small><table border=\"1\" class=\"dataframe\"><thead><tr><th>ANNEE</th><th>proprietaire</th><th>flow</th><th>count</th></tr><tr><td>str</td><td>str</td><td>str</td><td>u32</td></tr></thead><tbody><tr><td>&quot;2020&quot;</td><td>&quot;&quot;DG75-L120&quot;&quot;</td><td>&quot;&quot;REDIRECTION&quot;&quot;</td><td>2</td></tr><tr><td>&quot;2021&quot;</td><td>&quot;&quot;DG75-L120&quot;&quot;</td><td>&quot;&quot;REDIRECTION&quot;&quot;</td><td>2</td></tr><tr><td>&quot;2021&quot;</td><td>&quot;&quot;DG75-L120&quot;&quot;</td><td>&quot;&quot;FILTER&quot;&quot;</td><td>4</td></tr><tr><td>&quot;2022&quot;</td><td>&quot;&quot;DG75-L120&quot;&quot;</td><td>&quot;&quot;FILTER&quot;&quot;</td><td>9</td></tr><tr><td>&quot;2022&quot;</td><td>&quot;&quot;DG75-L120&quot;&quot;</td><td>&quot;&quot;REDIRECTION&quot;&quot;</td><td>2</td></tr><tr><td>&quot;2023&quot;</td><td>&quot;&quot;DG75-L120&quot;&quot;</td><td>&quot;&quot;REDIRECTION&quot;&quot;</td><td>2</td></tr><tr><td>&quot;2023&quot;</td><td>&quot;&quot;DG75-L120&quot;&quot;</td><td>&quot;&quot;FILTER&quot;&quot;</td><td>4</td></tr></tbody></table></div>"
      ],
      "text/plain": [
       "shape: (7, 4)\n",
       "┌───────┬──────────────┬───────────────┬───────┐\n",
       "│ ANNEE ┆ proprietaire ┆ flow          ┆ count │\n",
       "│ ---   ┆ ---          ┆ ---           ┆ ---   │\n",
       "│ str   ┆ str          ┆ str           ┆ u32   │\n",
       "╞═══════╪══════════════╪═══════════════╪═══════╡\n",
       "│ 2020  ┆ \"DG75-L120\"  ┆ \"REDIRECTION\" ┆ 2     │\n",
       "│ 2021  ┆ \"DG75-L120\"  ┆ \"REDIRECTION\" ┆ 2     │\n",
       "│ 2021  ┆ \"DG75-L120\"  ┆ \"FILTER\"      ┆ 4     │\n",
       "│ 2022  ┆ \"DG75-L120\"  ┆ \"FILTER\"      ┆ 9     │\n",
       "│ 2022  ┆ \"DG75-L120\"  ┆ \"REDIRECTION\" ┆ 2     │\n",
       "│ 2023  ┆ \"DG75-L120\"  ┆ \"REDIRECTION\" ┆ 2     │\n",
       "│ 2023  ┆ \"DG75-L120\"  ┆ \"FILTER\"      ┆ 4     │\n",
       "└───────┴──────────────┴───────────────┴───────┘"
      ]
     },
     "execution_count": 90,
     "metadata": {},
     "output_type": "execute_result"
    }
   ],
   "source": [
    "df_prop = df_y.groupby([\"ANNEE\", \"proprietaire\", \"flow\"]).agg(pl.count()).sort(\"ANNEE\")\n",
    "df_prop.filter(pl.col(\"proprietaire\") == \"\\\"DG75-L120\\\"\")"
   ]
  }
 ],
 "metadata": {
  "kernelspec": {
   "display_name": "Python 3 (ipykernel)",
   "language": "python",
   "name": "python3"
  },
  "language_info": {
   "codemirror_mode": {
    "name": "ipython",
    "version": 3
   },
   "file_extension": ".py",
   "mimetype": "text/x-python",
   "name": "python",
   "nbconvert_exporter": "python",
   "pygments_lexer": "ipython3",
   "version": "3.10.9"
  }
 },
 "nbformat": 4,
 "nbformat_minor": 5
}
